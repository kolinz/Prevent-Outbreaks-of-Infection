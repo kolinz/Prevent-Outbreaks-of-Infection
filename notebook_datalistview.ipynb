{
 "cells": [
  {
   "cell_type": "code",
   "execution_count": 1,
   "metadata": {},
   "outputs": [],
   "source": [
    "\n",
    "# @hidden_cell\n",
    "# The following code contains the credentials for a connection in your Project.\n",
    "# You might want to remove those credentials before you share your notebook.\n",
    "credentials_1 = {\n",
    "    'username': 'xxxxxxxx-bluemix',\n",
    "    'password': \"xxxxxxxx\",\n",
    "    'url': 'https://xxxxxxxx-bluemix:xxxxxxxxx-bluemix.cloudantnosqldb.appdomain.cloud',\n",
    "    'port': '443',\n",
    "    'host': 'xxxxxxxxx-bluemix.cloudantnosqldb.appdomain.cloud'\n",
    "}\n"
   ]
  },
  {
   "cell_type": "code",
   "execution_count": 3,
   "metadata": {
    "collapsed": true
   },
   "outputs": [
    {
     "name": "stdout",
     "output_type": "stream",
     "text": [
      "Requirement already up-to-date: cloudant in /opt/conda/envs/Python36/lib/python3.6/site-packages (2.12.0)\r\n",
      "Requirement already satisfied, skipping upgrade: requests<3.0.0,>=2.7.0 in /opt/conda/envs/Python36/lib/python3.6/site-packages (from cloudant) (2.21.0)\r\n",
      "Requirement already satisfied, skipping upgrade: urllib3<1.25,>=1.21.1 in /opt/conda/envs/Python36/lib/python3.6/site-packages (from requests<3.0.0,>=2.7.0->cloudant) (1.24.1)\r\n",
      "Requirement already satisfied, skipping upgrade: idna<2.9,>=2.5 in /opt/conda/envs/Python36/lib/python3.6/site-packages (from requests<3.0.0,>=2.7.0->cloudant) (2.8)\r\n",
      "Requirement already satisfied, skipping upgrade: certifi>=2017.4.17 in /opt/conda/envs/Python36/lib/python3.6/site-packages (from requests<3.0.0,>=2.7.0->cloudant) (2019.6.16)\r\n",
      "Requirement already satisfied, skipping upgrade: chardet<3.1.0,>=3.0.2 in /opt/conda/envs/Python36/lib/python3.6/site-packages (from requests<3.0.0,>=2.7.0->cloudant) (3.0.4)\r\n"
     ]
    }
   ],
   "source": [
    "!pip install --user cloudant"
   ]
  },
  {
   "cell_type": "code",
   "execution_count": 6,
   "metadata": {
    "pixiedust": {
     "displayParams": {}
    }
   },
   "outputs": [
    {
     "data": {
      "text/html": [
       "<div>\n",
       "<style scoped>\n",
       "    .dataframe tbody tr th:only-of-type {\n",
       "        vertical-align: middle;\n",
       "    }\n",
       "\n",
       "    .dataframe tbody tr th {\n",
       "        vertical-align: top;\n",
       "    }\n",
       "\n",
       "    .dataframe thead th {\n",
       "        text-align: right;\n",
       "    }\n",
       "</style>\n",
       "<table border=\"1\" class=\"dataframe\">\n",
       "  <thead>\n",
       "    <tr style=\"text-align: right;\">\n",
       "      <th></th>\n",
       "      <th>_id</th>\n",
       "      <th>model</th>\n",
       "      <th>target</th>\n",
       "      <th>user</th>\n",
       "      <th>location</th>\n",
       "      <th>class1</th>\n",
       "      <th>score1</th>\n",
       "      <th>class2</th>\n",
       "      <th>score2</th>\n",
       "      <th>class3</th>\n",
       "      <th>score3</th>\n",
       "      <th>class4</th>\n",
       "      <th>score4</th>\n",
       "      <th>class5</th>\n",
       "      <th>score5</th>\n",
       "      <th>class6</th>\n",
       "      <th>score6</th>\n",
       "      <th>filename</th>\n",
       "      <th>date</th>\n",
       "    </tr>\n",
       "  </thead>\n",
       "  <tbody>\n",
       "    <tr>\n",
       "      <th>0</th>\n",
       "      <td>0d88af0a8304fc7dbf4a3ad3b475ae07</td>\n",
       "      <td>bacteria</td>\n",
       "      <td>Smith-san</td>\n",
       "      <td>User1</td>\n",
       "      <td>Tokyo</td>\n",
       "      <td>Haemophilus influenzae</td>\n",
       "      <td>0.909</td>\n",
       "      <td>Klebsiella pneumoniae</td>\n",
       "      <td>0.003</td>\n",
       "      <td>Moraxella catarrhalis</td>\n",
       "      <td>0.007</td>\n",
       "      <td>Pseudomonas aeruginosa</td>\n",
       "      <td>0.003</td>\n",
       "      <td>Staphylococcus aureus</td>\n",
       "      <td>0.004</td>\n",
       "      <td>Streptococcus pneumoniae</td>\n",
       "      <td>0.002</td>\n",
       "      <td>2019627-1650-kiblx5.zsrg.jpg</td>\n",
       "      <td>2019-07-27T05:30:36.705Z</td>\n",
       "    </tr>\n",
       "  </tbody>\n",
       "</table>\n",
       "</div>"
      ],
      "text/plain": [
       "                                _id                                 model  \\\n",
       "0  0d88af0a8304fc7dbf4a3ad3b475ae07  DefaultCustomModelBacteria_879086840   \n",
       "\n",
       "      target    user location                  class1  score1  \\\n",
       "0  Smith-san  User1     Tokyo  Haemophilus influenzae   0.909   \n",
       "\n",
       "                  class2  score2                 class3  score3  \\\n",
       "0  Klebsiella pneumoniae   0.003  Moraxella catarrhalis   0.007   \n",
       "\n",
       "                   class4  score4                 class5  score5  \\\n",
       "0  Pseudomonas aeruginosa   0.003  Staphylococcus aureus   0.004   \n",
       "\n",
       "                     class6  score6                      filename  \\\n",
       "0  Streptococcus pneumoniae   0.002  2019627-1650-kiblx5.zsrg.jpg   \n",
       "\n",
       "                       date  \n",
       "0  2019-07-27T05:30:36.705Z  "
      ]
     },
     "execution_count": 6,
     "metadata": {},
     "output_type": "execute_result"
    }
   ],
   "source": [
    "from cloudant.client import Cloudant\n",
    "from cloudant.result import Result\n",
    "import pandas as pd, json\n",
    "import numpy as np\n",
    "\n",
    "client = Cloudant(credentials_1[\"username\"], credentials_1[\"password\"], url=credentials_1[\"url\"])\n",
    "client.connect()\n",
    "\n",
    "db = client['log_recog_image']\n",
    "result_collection = Result(db.all_docs, include_docs=True)\n",
    "df = pd.DataFrame([item['doc'] for item in result_collection])\n",
    "df1 = df[['_id','model','target','user','location','class1','score1','class2','score2','class3','score3','class4','score4','class5','score5','class6','score6','filename','date']]\n",
    "df1"
   ]
  },
  {
   "cell_type": "code",
   "execution_count": 7,
   "metadata": {
    "pixiedust": {
     "displayParams": {}
    },
    "scrolled": true
   },
   "outputs": [
    {
     "data": {
      "text/html": [
       "<a download=\"data.csv\" href=\"data:text/csv;base64,X2lkLG1vZGVsLHRhcmdldCx1c2VyLGxvY2F0aW9uLGNsYXNzMSxzY29yZTEsY2xhc3MyLHNjb3JlMixjbGFzczMsc2NvcmUzLGNsYXNzNCxzY29yZTQsY2xhc3M1LHNjb3JlNSxjbGFzczYsc2NvcmU2LGZpbGVuYW1lLGRhdGUKMGQ4OGFmMGE4MzA0ZmM3ZGJmNGEzYWQzYjQ3NWFlMDcsRGVmYXVsdEN1c3RvbU1vZGVsQmFjdGVyaWFfODc5MDg2ODQwLFNtaXRoLXNhbixVc2VyMSAsVG9reW8sSGFlbW9waGlsdXMgaW5mbHVlbnphZSwwLjkwOSxLbGVic2llbGxhIHBuZXVtb25pYWUsMC4wMDMsTW9yYXhlbGxhIGNhdGFycmhhbGlzLDAuMDA3LFBzZXVkb21vbmFzIGFlcnVnaW5vc2EsMC4wMDMsU3RhcGh5bG9jb2NjdXMgYXVyZXVzLDAuMDA0LFN0cmVwdG9jb2NjdXMgcG5ldW1vbmlhZSwwLjAwMiwyMDE5NjI3LTE2NTAta2libHg1LnpzcmcuanBnLDIwMTktMDctMjdUMDU6MzA6MzYuNzA1Wgo=\" target=\"_blank\">Download CSV file</a>"
      ],
      "text/plain": [
       "<IPython.core.display.HTML object>"
      ]
     },
     "execution_count": 7,
     "metadata": {},
     "output_type": "execute_result"
    }
   ],
   "source": [
    "## CSV download\n",
    "from IPython.display import HTML\n",
    "import base64 \n",
    "\n",
    "\n",
    "def create_download_link( df, title = \"Download CSV file\", filename = \"data.csv\"):  \n",
    "    csv = df1.to_csv(index=False)\n",
    "    b64 = base64.b64encode(csv.encode())\n",
    "    payload = b64.decode()\n",
    "    html = '<a download=\"{filename}\" href=\"data:text/csv;base64,{payload}\" target=\"_blank\">{title}</a>'\n",
    "    html = html.format(payload=payload,title=title,filename=filename)\n",
    "    return HTML(html)\n",
    "\n",
    "create_download_link(df)"
   ]
  },
  {
   "cell_type": "code",
   "execution_count": null,
   "metadata": {},
   "outputs": [],
   "source": []
  }
 ],
 "metadata": {
  "celltoolbar": "Raw Cell Format",
  "kernelspec": {
   "display_name": "Python 3.6",
   "language": "python",
   "name": "python3"
  },
  "language_info": {
   "codemirror_mode": {
    "name": "ipython",
    "version": 3
   },
   "file_extension": ".py",
   "mimetype": "text/x-python",
   "name": "python",
   "nbconvert_exporter": "python",
   "pygments_lexer": "ipython3",
   "version": "3.6.8"
  }
 },
 "nbformat": 4,
 "nbformat_minor": 1
}
